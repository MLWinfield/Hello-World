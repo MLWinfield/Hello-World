{
 "cells": [
  {
   "cell_type": "code",
   "execution_count": 9,
   "metadata": {},
   "outputs": [
    {
     "name": "stdout",
     "output_type": "stream",
     "text": [
      "[1, 2, 3, 4, 5, 6, 7]\n"
     ]
    }
   ],
   "source": [
    "my = [1,2,3,4,5,6,7]\n",
    "print(my)"
   ]
  },
  {
   "cell_type": "code",
   "execution_count": 5,
   "metadata": {},
   "outputs": [
    {
     "name": "stdout",
     "output_type": "stream",
     "text": [
      "3 bottles of beer on the wall,\n",
      "3 bottles of beer.\n",
      "Take one down, pass it around,\n",
      "2 bottles of beer on the wall.\n",
      "2 bottles of beer on the wall,\n",
      "2 bottles of beer.\n",
      "Take one down, pass it around,\n",
      "one bottle of beer on the wall.\n",
      "one bottle of beer on the wall,\n",
      "one bottle of beer.\n",
      "Take one down, pass it around,\n",
      "no more bottles of beer on the wall.\n"
     ]
    }
   ],
   "source": [
    "\n",
    "import sys\n",
    "\n",
    "n = 3\n",
    "#if sys.argv[1:]:\n",
    "#    n = int(sys.argv[1])\n",
    "\n",
    "def bottle(n):\n",
    "    if n == 0: return \"no more bottles of beer\"\n",
    "    if n == 1: return \"one bottle of beer\"\n",
    "    return str(n) + \" bottles of beer\"\n",
    "\n",
    "for i in range(n, 0, -1):\n",
    "    print(bottle(i), \"on the wall,\")\n",
    "    print(bottle(i) + \".\")\n",
    "    print(\"Take one down, pass it around,\")\n",
    "    print(bottle(i-1), \"on the wall.\")\n"
   ]
  },
  {
   "cell_type": "code",
   "execution_count": null,
   "metadata": {},
   "outputs": [],
   "source": []
  }
 ],
 "metadata": {
  "kernelspec": {
   "display_name": "Python 3",
   "language": "python",
   "name": "python3"
  },
  "language_info": {
   "codemirror_mode": {
    "name": "ipython",
    "version": 3
   },
   "file_extension": ".py",
   "mimetype": "text/x-python",
   "name": "python",
   "nbconvert_exporter": "python",
   "pygments_lexer": "ipython3",
   "version": "3.8.5"
  }
 },
 "nbformat": 4,
 "nbformat_minor": 4
}
